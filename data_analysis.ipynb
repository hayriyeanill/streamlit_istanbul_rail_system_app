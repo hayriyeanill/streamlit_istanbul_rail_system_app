{
 "cells": [
  {
   "cell_type": "code",
   "execution_count": null,
   "metadata": {},
   "outputs": [],
   "source": [
    "from pathlib import Path\n",
    "import pandas as pd\n",
    "\n",
    "import plotly.express as px"
   ]
  },
  {
   "cell_type": "code",
   "execution_count": null,
   "metadata": {},
   "outputs": [],
   "source": [
    "dataset_dir = (Path().resolve() / \"data\").absolute().as_posix()"
   ]
  },
  {
   "cell_type": "code",
   "execution_count": null,
   "metadata": {},
   "outputs": [],
   "source": [
    "data = pd.read_csv(f\"{dataset_dir}/processed_data_2022_rail_stations.csv\")\n",
    "data.head(5)"
   ]
  },
  {
   "cell_type": "code",
   "execution_count": null,
   "metadata": {},
   "outputs": [],
   "source": [
    "data.info()"
   ]
  },
  {
   "cell_type": "code",
   "execution_count": null,
   "metadata": {},
   "outputs": [],
   "source": [
    "data.isnull().sum()"
   ]
  },
  {
   "cell_type": "code",
   "execution_count": null,
   "metadata": {},
   "outputs": [],
   "source": [
    "data['year'].unique()"
   ]
  },
  {
   "cell_type": "code",
   "execution_count": null,
   "metadata": {},
   "outputs": [],
   "source": [
    "data['month'].unique()"
   ]
  },
  {
   "cell_type": "code",
   "execution_count": null,
   "metadata": {},
   "outputs": [],
   "source": [
    "data['line'].unique()"
   ]
  },
  {
   "cell_type": "code",
   "execution_count": null,
   "metadata": {},
   "outputs": [],
   "source": [
    "lines = (data['line'].unique()).tolist()\n",
    "len(lines)"
   ]
  },
  {
   "cell_type": "markdown",
   "metadata": {},
   "source": [
    "### Analysis on rail line data"
   ]
  },
  {
   "cell_type": "code",
   "execution_count": null,
   "metadata": {},
   "outputs": [],
   "source": [
    "line_df = data[data['line'] == 'M2-YENIKAPI-HACIOSMAN']\n",
    "line_df"
   ]
  },
  {
   "cell_type": "code",
   "execution_count": null,
   "metadata": {},
   "outputs": [],
   "source": [
    "monthly_passenger_cnts = line_df.groupby(['month', \n",
    "                                          'station_name']).agg(\n",
    "                                          {'passanger_cnt':'sum'})\n",
    "monthly_passenger_cnts.reset_index(inplace=True)\n",
    "monthly_passenger_cnts"
   ]
  },
  {
   "cell_type": "code",
   "execution_count": null,
   "metadata": {},
   "outputs": [],
   "source": [
    "age_frame = line_df.groupby(['age']).agg({'passage_cnt':'sum'})\n",
    "age_frame = age_frame.sort_values('passage_cnt')\n",
    "age_frame"
   ]
  },
  {
   "cell_type": "code",
   "execution_count": null,
   "metadata": {},
   "outputs": [],
   "source": [
    "weekly_passenger_cnts = line_df.groupby(['date',\n",
    "                                         'month',\n",
    "                                         'week_number',\n",
    "                                         'day_of_week',\n",
    "                                         'station_name']).agg(\n",
    "                                         {'passanger_cnt':'sum'})\n",
    "weekly_passenger_cnts.reset_index(inplace=True)\n",
    "weekly_passenger_cnts  "
   ]
  },
  {
   "cell_type": "code",
   "execution_count": null,
   "metadata": {},
   "outputs": [],
   "source": [
    "example_data = weekly_passenger_cnts[(weekly_passenger_cnts['month'] == 'January') & (weekly_passenger_cnts['week_number'] == 1)]\n",
    "example_data"
   ]
  },
  {
   "cell_type": "code",
   "execution_count": null,
   "metadata": {},
   "outputs": [],
   "source": [
    "min_date = example_data['date'].min()\n",
    "max_date = example_data['date'].max()"
   ]
  },
  {
   "cell_type": "code",
   "execution_count": null,
   "metadata": {},
   "outputs": [],
   "source": [
    "fig = px.bar(example_data,\n",
    "             x='station_name',\n",
    "             y='passanger_cnt',\n",
    "             color='day_of_week',\n",
    "             title=f'Number of Passangers for Each Day for Week ({min_date} - {max_date}) by Stations')\n",
    "fig.show()"
   ]
  },
  {
   "cell_type": "code",
   "execution_count": null,
   "metadata": {},
   "outputs": [],
   "source": [
    "age_frame = line_df.groupby(['age']).agg({'passanger_cnt':'sum'})\n",
    "age_frame = age_frame.sort_values('passanger_cnt')\n",
    "age_frame"
   ]
  },
  {
   "cell_type": "code",
   "execution_count": null,
   "metadata": {},
   "outputs": [],
   "source": [
    "age_stations_frame = line_df.groupby(['age', 'station_name']).agg({'passanger_cnt':'sum'})\n",
    "age_stations_frame.reset_index(inplace=True)\n",
    "age_stations_frame"
   ]
  },
  {
   "cell_type": "code",
   "execution_count": null,
   "metadata": {},
   "outputs": [],
   "source": [
    "fig = px.bar(age_stations_frame[age_stations_frame['age'] == '20-30'],\n",
    "             x='station_name',\n",
    "             y='passanger_cnt',\n",
    "             title='Number of Passangers by Stations for Age Group (20-30)')\n",
    "fig.show()"
   ]
  },
  {
   "cell_type": "code",
   "execution_count": null,
   "metadata": {},
   "outputs": [],
   "source": [
    "fig = px.bar(age_frame, x=age_frame.index, y='passanger_cnt', title='Number of Passagers by Age Group')\n",
    "fig.update_traces(marker_color=['#ADD8E6', '#87CEEB', '#4682B4', '#483D8B', '#191970'])\n",
    "fig.show()"
   ]
  },
  {
   "cell_type": "code",
   "execution_count": null,
   "metadata": {},
   "outputs": [],
   "source": [
    "tr_holidays = pd.read_csv(f\"{dataset_dir}/tr_holidays.csv\")\n",
    "tr_holidays"
   ]
  },
  {
   "cell_type": "code",
   "execution_count": null,
   "metadata": {},
   "outputs": [],
   "source": [
    "text = \"New Year's Day\"\n",
    "holiday_date = tr_holidays[tr_holidays['Holiday'] == text]['Date'].values[0]\n",
    "holiday_date"
   ]
  },
  {
   "cell_type": "code",
   "execution_count": null,
   "metadata": {},
   "outputs": [],
   "source": [
    "holiday_passenger_cnt = line_df[line_df['date'] == holiday_date].groupby([ 'station_name']).agg(\n",
    "                                                                         {'passanger_cnt':'sum'})\n",
    "holiday_passenger_cnt"
   ]
  }
 ],
 "metadata": {
  "kernelspec": {
   "display_name": "env",
   "language": "python",
   "name": "python3"
  },
  "language_info": {
   "codemirror_mode": {
    "name": "ipython",
    "version": 3
   },
   "file_extension": ".py",
   "mimetype": "text/x-python",
   "name": "python",
   "nbconvert_exporter": "python",
   "pygments_lexer": "ipython3",
   "version": "3.10.9"
  }
 },
 "nbformat": 4,
 "nbformat_minor": 2
}
